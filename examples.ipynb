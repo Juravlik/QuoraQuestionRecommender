{
 "cells": [
  {
   "cell_type": "code",
   "execution_count": 3,
   "metadata": {},
   "outputs": [],
   "source": [
    "import json\n",
    "import requests\n",
    "import pandas as pd\n",
    "from IPython.core.display import HTML"
   ]
  },
  {
   "cell_type": "code",
   "execution_count": 16,
   "metadata": {
    "scrolled": false
   },
   "outputs": [
    {
     "name": "stdout",
     "output_type": "stream",
     "text": [
      "{\"status\":\"ok\"}\r\n"
     ]
    }
   ],
   "source": [
    "!curl 'http://127.0.0.1:11000/ping'"
   ]
  },
  {
   "cell_type": "code",
   "execution_count": 17,
   "metadata": {},
   "outputs": [
    {
     "name": "stderr",
     "output_type": "stream",
     "text": [
      "/tmp/ipykernel_30965/2916150031.py:1: FutureWarning: The error_bad_lines argument has been deprecated and will be removed in a future version. Use on_bad_lines in the future.\n",
      "\n",
      "\n",
      "  dev_df = pd.read_csv('./data/QQP/dev.tsv',\n"
     ]
    }
   ],
   "source": [
    "dev_df = pd.read_csv('./data/QQP/dev.tsv',\n",
    "                     sep='\\t',\n",
    "                     error_bad_lines=False,\n",
    "                     dtype=object)"
   ]
  },
  {
   "cell_type": "code",
   "execution_count": 18,
   "metadata": {},
   "outputs": [
    {
     "data": {
      "text/html": [
       "<div>\n",
       "<style scoped>\n",
       "    .dataframe tbody tr th:only-of-type {\n",
       "        vertical-align: middle;\n",
       "    }\n",
       "\n",
       "    .dataframe tbody tr th {\n",
       "        vertical-align: top;\n",
       "    }\n",
       "\n",
       "    .dataframe thead th {\n",
       "        text-align: right;\n",
       "    }\n",
       "</style>\n",
       "<table border=\"1\" class=\"dataframe\">\n",
       "  <thead>\n",
       "    <tr style=\"text-align: right;\">\n",
       "      <th></th>\n",
       "      <th>id</th>\n",
       "      <th>qid1</th>\n",
       "      <th>qid2</th>\n",
       "      <th>question1</th>\n",
       "      <th>question2</th>\n",
       "      <th>is_duplicate</th>\n",
       "    </tr>\n",
       "  </thead>\n",
       "  <tbody>\n",
       "    <tr>\n",
       "      <th>0</th>\n",
       "      <td>201359</td>\n",
       "      <td>303345</td>\n",
       "      <td>303346</td>\n",
       "      <td>Why are African-Americans so beautiful?</td>\n",
       "      <td>Why are hispanics so beautiful?</td>\n",
       "      <td>0</td>\n",
       "    </tr>\n",
       "    <tr>\n",
       "      <th>1</th>\n",
       "      <td>263843</td>\n",
       "      <td>69383</td>\n",
       "      <td>380476</td>\n",
       "      <td>I want to pursue PhD in Computer Science about...</td>\n",
       "      <td>I handle social media for a non-profit. Should...</td>\n",
       "      <td>0</td>\n",
       "    </tr>\n",
       "    <tr>\n",
       "      <th>2</th>\n",
       "      <td>172974</td>\n",
       "      <td>266948</td>\n",
       "      <td>175089</td>\n",
       "      <td>Is there a reason why we should travel alone?</td>\n",
       "      <td>What are some reasons to travel alone?</td>\n",
       "      <td>1</td>\n",
       "    </tr>\n",
       "    <tr>\n",
       "      <th>3</th>\n",
       "      <td>15329</td>\n",
       "      <td>29298</td>\n",
       "      <td>29299</td>\n",
       "      <td>Why are people so obsessed with having a girlf...</td>\n",
       "      <td>How can a single male have a child?</td>\n",
       "      <td>0</td>\n",
       "    </tr>\n",
       "    <tr>\n",
       "      <th>4</th>\n",
       "      <td>209794</td>\n",
       "      <td>314169</td>\n",
       "      <td>314170</td>\n",
       "      <td>What are some good baby girl names starting wi...</td>\n",
       "      <td>What are some good baby girl names starting wi...</td>\n",
       "      <td>0</td>\n",
       "    </tr>\n",
       "    <tr>\n",
       "      <th>...</th>\n",
       "      <td>...</td>\n",
       "      <td>...</td>\n",
       "      <td>...</td>\n",
       "      <td>...</td>\n",
       "      <td>...</td>\n",
       "      <td>...</td>\n",
       "    </tr>\n",
       "    <tr>\n",
       "      <th>40425</th>\n",
       "      <td>212288</td>\n",
       "      <td>137438</td>\n",
       "      <td>152402</td>\n",
       "      <td>Why is darkness and the colour black generally...</td>\n",
       "      <td>Why does darkness represent evil?</td>\n",
       "      <td>1</td>\n",
       "    </tr>\n",
       "    <tr>\n",
       "      <th>40426</th>\n",
       "      <td>258093</td>\n",
       "      <td>373551</td>\n",
       "      <td>373552</td>\n",
       "      <td>Why don't I feel uncomfortable making eye cont...</td>\n",
       "      <td>Why am I feeling uncomfortable to make eye con...</td>\n",
       "      <td>1</td>\n",
       "    </tr>\n",
       "    <tr>\n",
       "      <th>40427</th>\n",
       "      <td>256815</td>\n",
       "      <td>50429</td>\n",
       "      <td>164521</td>\n",
       "      <td>Is watching porn bad during your college life?</td>\n",
       "      <td>Is watching porn sin?</td>\n",
       "      <td>1</td>\n",
       "    </tr>\n",
       "    <tr>\n",
       "      <th>40428</th>\n",
       "      <td>5947</td>\n",
       "      <td>11669</td>\n",
       "      <td>11670</td>\n",
       "      <td>How do I calculate tension in physics?</td>\n",
       "      <td>How to calculate tension in physics?</td>\n",
       "      <td>1</td>\n",
       "    </tr>\n",
       "    <tr>\n",
       "      <th>40429</th>\n",
       "      <td>124773</td>\n",
       "      <td>30681</td>\n",
       "      <td>13144</td>\n",
       "      <td>How can I make money online quickly and easily?</td>\n",
       "      <td>What is make money online?</td>\n",
       "      <td>1</td>\n",
       "    </tr>\n",
       "  </tbody>\n",
       "</table>\n",
       "<p>40430 rows × 6 columns</p>\n",
       "</div>"
      ],
      "text/plain": [
       "           id    qid1    qid2  \\\n",
       "0      201359  303345  303346   \n",
       "1      263843   69383  380476   \n",
       "2      172974  266948  175089   \n",
       "3       15329   29298   29299   \n",
       "4      209794  314169  314170   \n",
       "...       ...     ...     ...   \n",
       "40425  212288  137438  152402   \n",
       "40426  258093  373551  373552   \n",
       "40427  256815   50429  164521   \n",
       "40428    5947   11669   11670   \n",
       "40429  124773   30681   13144   \n",
       "\n",
       "                                               question1  \\\n",
       "0                Why are African-Americans so beautiful?   \n",
       "1      I want to pursue PhD in Computer Science about...   \n",
       "2          Is there a reason why we should travel alone?   \n",
       "3      Why are people so obsessed with having a girlf...   \n",
       "4      What are some good baby girl names starting wi...   \n",
       "...                                                  ...   \n",
       "40425  Why is darkness and the colour black generally...   \n",
       "40426  Why don't I feel uncomfortable making eye cont...   \n",
       "40427     Is watching porn bad during your college life?   \n",
       "40428             How do I calculate tension in physics?   \n",
       "40429    How can I make money online quickly and easily?   \n",
       "\n",
       "                                               question2 is_duplicate  \n",
       "0                        Why are hispanics so beautiful?            0  \n",
       "1      I handle social media for a non-profit. Should...            0  \n",
       "2                 What are some reasons to travel alone?            1  \n",
       "3                    How can a single male have a child?            0  \n",
       "4      What are some good baby girl names starting wi...            0  \n",
       "...                                                  ...          ...  \n",
       "40425                  Why does darkness represent evil?            1  \n",
       "40426  Why am I feeling uncomfortable to make eye con...            1  \n",
       "40427                              Is watching porn sin?            1  \n",
       "40428               How to calculate tension in physics?            1  \n",
       "40429                         What is make money online?            1  \n",
       "\n",
       "[40430 rows x 6 columns]"
      ]
     },
     "execution_count": 18,
     "metadata": {},
     "output_type": "execute_result"
    }
   ],
   "source": [
    "dev_df"
   ]
  },
  {
   "cell_type": "code",
   "execution_count": 8,
   "metadata": {},
   "outputs": [],
   "source": [
    "docs = {'documents': {i[0]: i[1] for i in dev_df[['qid1', 'question1']].values.tolist()}}"
   ]
  },
  {
   "cell_type": "code",
   "execution_count": 21,
   "metadata": {},
   "outputs": [
    {
     "data": {
      "text/html": [
       "{\"index_size\":37741,\"status\":\"ok\"}\n"
      ],
      "text/plain": [
       "<IPython.core.display.HTML object>"
      ]
     },
     "execution_count": 21,
     "metadata": {},
     "output_type": "execute_result"
    }
   ],
   "source": [
    "body = json.dumps({'documents': docs['documents']})\n",
    "res = requests.post('http://127.0.0.1:11000/update_index',\n",
    "                    json=body)\n",
    "HTML(res.content.decode('utf-8'))"
   ]
  },
  {
   "cell_type": "code",
   "execution_count": null,
   "metadata": {},
   "outputs": [],
   "source": []
  },
  {
   "cell_type": "code",
   "execution_count": 22,
   "metadata": {},
   "outputs": [
    {
     "data": {
      "text/html": [
       "{\"lang_check\":[false,true],\"suggestions\":[null,[[\"45068\",\"Do you dislike Hilary Clinton? If so, please could you explain why?\"],[\"102609\",\"Why do people dislike Hillary Clinton? What has she done wrong?\"],[\"326387\",\"What do you most admire about Hillary Clinton?\"],[\"45544\",\"Do you think Hillary Clinton will win?\"],[\"258242\",\"What do you think about Memrise?\"],[\"261490\",\"What do you think about AliExpress?\"],[\"241886\",\"What's something you wish people knew about you?\"],[\"425857\",\"What do you think about Stoicism?\"],[\"222146\",\"What do you really know about Iran?\"],[\"189696\",\"Why does everyone hate Hillary Clinton?\"]]]}\n"
      ],
      "text/plain": [
       "<IPython.core.display.HTML object>"
      ]
     },
     "execution_count": 22,
     "metadata": {},
     "output_type": "execute_result"
    }
   ],
   "source": [
    "body = json.dumps({'queries': ['Проверка на язык',\n",
    "                               'Do you know something about Hillary Clinton?']},\n",
    "#                   ensure_ascii=False,\n",
    "                 )\n",
    "res = requests.post('http://127.0.0.1:11000/query',\n",
    "                    json=body)\n",
    "HTML(res.content.decode('utf-8'))"
   ]
  },
  {
   "cell_type": "code",
   "execution_count": null,
   "metadata": {},
   "outputs": [],
   "source": []
  }
 ],
 "metadata": {
  "kernelspec": {
   "display_name": "hml",
   "language": "python",
   "name": "hml"
  },
  "language_info": {
   "codemirror_mode": {
    "name": "ipython",
    "version": 3
   },
   "file_extension": ".py",
   "mimetype": "text/x-python",
   "name": "python",
   "nbconvert_exporter": "python",
   "pygments_lexer": "ipython3",
   "version": "3.8.13"
  }
 },
 "nbformat": 4,
 "nbformat_minor": 2
}
